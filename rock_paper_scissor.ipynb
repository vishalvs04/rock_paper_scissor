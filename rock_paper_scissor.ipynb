{
 "cells": [
  {
   "cell_type": "markdown",
   "id": "e10e6107",
   "metadata": {},
   "source": [
    "# ROCK PAPER SCISSOR"
   ]
  },
  {
   "cell_type": "code",
   "execution_count": 1,
   "id": "74aa2bec",
   "metadata": {},
   "outputs": [],
   "source": [
    "import random\n",
    "def play_rock_paper_scissor():\n",
    "    runner_code=True\n",
    "    user_score=0\n",
    "    comp_score=0\n",
    "    while runner_code:\n",
    "        choices=['rock','paper','scissor']\n",
    "        user_choice=input(\"Choose Rock, Paper or Scissor, OR q/Q/quit/Quit/QUIT for quitting: \")\n",
    "        computer_choice=random.choice(choices)\n",
    "\n",
    "        if user_choice==computer_choice:\n",
    "            print('Its A TIE!!!!')\n",
    "        elif user_choice=='rock' and computer_choice=='paper':\n",
    "            print('Paper covers Rock, Computer Wins')\n",
    "            comp_score+=1\n",
    "            print('User Score=',user_score)\n",
    "            print(\"Computer's Score=\",comp_score)\n",
    "        elif user_choice=='scissor' and computer_choice=='rock':\n",
    "            print('Rock Breaks Scissor, Computer Wins')\n",
    "            comp_score+=1\n",
    "            print('User Score=',user_score)\n",
    "            print(\"Computer's Score=\",comp_score)\n",
    "        elif user_choice=='paper' and computer_choice=='scissor':\n",
    "            print('Scissor Cuts Paper, Computer Wins')\n",
    "            comp_score+=1\n",
    "            print('User Score=',user_score)\n",
    "            print(\"Computer's Score=\",comp_score)\n",
    "        elif user_choice=='paper' and computer_choice=='rock':\n",
    "            print(\"Paper Covers Rock, User Wins\")\n",
    "            user_score+=1\n",
    "            print('User Score=',user_score)\n",
    "            print(\"Computer's Score=\",comp_score)\n",
    "        elif user_choice=='rock' and computer_choice=='scissor':\n",
    "            print('Rock breaks Scissor, User Wins')\n",
    "            user_score+=1\n",
    "            print('User Score=',user_score)\n",
    "            print(\"Computer's Score=\",comp_score)\n",
    "        elif user_choice=='scissor' and computer_choice=='paper':\n",
    "            print('Scissor cuts paper, User Wins')\n",
    "            user_score+=1\n",
    "            print('User Score=',user_score)\n",
    "            print(\"Computer's Score=\",comp_score)\n",
    "        elif user_choice=='quit' or user_choice=='q' or user_choice=='Quit' or user_choice=='QUIT' or user_choice=='Q':\n",
    "            if user_score>0 or comp_score>0:\n",
    "                print('User Score=',user_score)\n",
    "                print(\"Computer's Score=\",comp_score)\n",
    "            print('Quit')\n",
    "            runner_code=False"
   ]
  }
 ],
 "metadata": {
  "kernelspec": {
   "display_name": "Python 3 (ipykernel)",
   "language": "python",
   "name": "python3"
  },
  "language_info": {
   "codemirror_mode": {
    "name": "ipython",
    "version": 3
   },
   "file_extension": ".py",
   "mimetype": "text/x-python",
   "name": "python",
   "nbconvert_exporter": "python",
   "pygments_lexer": "ipython3",
   "version": "3.9.7"
  }
 },
 "nbformat": 4,
 "nbformat_minor": 5
}
